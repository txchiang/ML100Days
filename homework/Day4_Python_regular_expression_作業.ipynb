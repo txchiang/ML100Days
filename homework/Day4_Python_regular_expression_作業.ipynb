{
 "metadata": {
  "language_info": {
   "codemirror_mode": {
    "name": "ipython",
    "version": 3
   },
   "file_extension": ".py",
   "mimetype": "text/x-python",
   "name": "python",
   "nbconvert_exporter": "python",
   "pygments_lexer": "ipython3",
   "version": "3.8.5-final"
  },
  "orig_nbformat": 2,
  "kernelspec": {
   "name": "python3",
   "display_name": "Python 3"
  }
 },
 "nbformat": 4,
 "nbformat_minor": 2,
 "cells": [
  {
   "cell_type": "code",
   "execution_count": 99,
   "metadata": {},
   "outputs": [],
   "source": [
    "import re\n",
    "with open('sample_emails.txt','r') as f:\n",
    "    sample_corpus = f.read()"
   ]
  },
  {
   "cell_type": "code",
   "execution_count": 100,
   "metadata": {},
   "outputs": [],
   "source": [
    "#  print(sample_corpus)"
   ]
  },
  {
   "cell_type": "code",
   "execution_count": 101,
   "metadata": {},
   "outputs": [],
   "source": [
    "pattern = r'From:.*'\n",
    "match = re.findall(pattern,sample_corpus)\n",
    "# print(match)"
   ]
  },
  {
   "cell_type": "code",
   "execution_count": 102,
   "metadata": {},
   "outputs": [
    {
     "output_type": "stream",
     "name": "stdout",
     "text": [
      "\"MR. JAMES NGOLA.\"\n\"Mr. Ben Suleman\"\n\"PRINCE OBONG ELEME\"\n"
     ]
    }
   ],
   "source": [
    "# pattern = r'(?<=:)[^=]\\\".*\\\"'\n",
    "\n",
    "# match = re.findall(pattern,sample_corpus)\n",
    "\n",
    "# for index, item in enumerate(match):\n",
    "#     match[index] = item.replace(\" \",\"\",1)\n",
    "\n",
    "# print(match)\n",
    "# -----------------------------------------------\n",
    "pattern = r'(?<=:)[^=]\\\".*\\\"'\n",
    "\n",
    "for item in match:\n",
    "    print(re.search(pattern, item).group().replace(\" \",\"\",1))"
   ]
  },
  {
   "cell_type": "code",
   "execution_count": 103,
   "metadata": {},
   "outputs": [
    {
     "output_type": "stream",
     "name": "stdout",
     "text": [
      "maktoob\nspinfinder\nepatra\n"
     ]
    }
   ],
   "source": [
    "pattern = r'([a-zA-z0-9_]+)@([a-z]+)\\.com'\n",
    "\n",
    "for item in match:\n",
    "    print(re.search(pattern, item).group(2))\n"
   ]
  },
  {
   "cell_type": "code",
   "execution_count": null,
   "metadata": {},
   "outputs": [],
   "source": []
  },
  {
   "cell_type": "code",
   "execution_count": 104,
   "metadata": {},
   "outputs": [
    {
     "output_type": "stream",
     "name": "stdout",
     "text": [
      "james_ngola2002,maktoob\nbensul2004nng,spinfinder\nobong_715,epatra\n"
     ]
    }
   ],
   "source": [
    "pattern = r'([a-zA-z0-9_]+)@([a-z]+)\\.com'\n",
    "\n",
    "for item in match:\n",
    "    name = re.search(pattern, item).group(1)\n",
    "    domain = re.search(pattern, item).group(2)\n",
    "    print('{},{}'.format(name,domain))\n"
   ]
  },
  {
   "cell_type": "code",
   "execution_count": 105,
   "metadata": {
    "tags": []
   },
   "outputs": [
    {
     "output_type": "stream",
     "name": "stdout",
     "text": [
      "3977\n"
     ]
    }
   ],
   "source": [
    "import re\n",
    "import pandas as pd\n",
    "import email\n",
    "\n",
    "with open('all_emails.txt', 'r', encoding=\"windows-1252\") as f:\n",
    "    all_email = f.read()\n",
    "emails = re.split(r'From r',all_email)\n",
    "emails = emails[:-1]\n",
    "\n",
    "print(len(emails))"
   ]
  },
  {
   "cell_type": "code",
   "execution_count": 106,
   "metadata": {
    "tags": []
   },
   "outputs": [],
   "source": [
    "myCount = 1\n",
    "emails_list = []\n",
    "emails_dict = {}\n",
    "for mail in emails[1:4]:\n",
    "\n",
    "    #Step1: 取的寄件者資訊 (hint: From:)\n",
    "    # pattern = re.compile(r'(?<=From:\\s)(\\\".*\\\")\\s(<.*)')\n",
    "    pattern = re.compile(r'(?<=From:\\s)(.*)')\n",
    "    FromReg = pattern.search(mail)\n",
    "\n",
    "    #Step2: 取的姓名與地址 (hint: 要注意有時會有沒取到配對的情況)\n",
    "    # FromName=''\n",
    "    # FromAddress=''\n",
    "    if FromReg is not None :\n",
    "        if FromReg.group().find('<')!= -1:\n",
    "            FromString = re.split(\"<\",FromReg.group(),re.DOTALL)\n",
    "            FromName = FromString[0].replace(\"\\\"\",\"\").strip()\n",
    "            FromMail = FromString[1].replace(\">\",\"\")\n",
    "            # print('{} {}'.format(FromName,FromMail))\n",
    "        else:\n",
    "            FromName =None\n",
    "            FromMail = FromReg.group()\n",
    "            # print('{} {}'.format(FromName,FromMail))\n",
    "    else:\n",
    "        FromName = None\n",
    "        FromMail = None\n",
    "    #Step3: 將取得的姓名與地址存入字典中\n",
    "    emails_dict.update({'FromName': FromName,'FromMail':FromMail})\n",
    "    \n",
    "\n",
    "    ###取的收件者姓名與地址###\n",
    "    #Step1: 取的寄件者資訊 (hint: To:)\n",
    "    ToReg = re.search(r'(?<=[^-]To:\\s)(.*)',mail)\n",
    "\n",
    "    #Step2: 取的姓名與地址 (hint: 要注意有時會有沒取到配對的情況)\n",
    "    if ToReg is not None:\n",
    "        ToMail = ToReg.group()\n",
    "        # print('{} : {}'.format(myCount,ToMail))\n",
    "    else:\n",
    "        ToMail = None  \n",
    "    \n",
    "    #Step3: 將取得的姓名與地址存入字典中\n",
    "    emails_dict.update({'ToMail': ToMail})\n",
    "    \n",
    "    ###取得信件主旨###\n",
    "    #Step1: 取得主旨資訊 (hint: Subject:)\n",
    "    subjectReg = re.search(r'(?<=Subject:\\s)(.*)',mail)\n",
    "    \n",
    "    #Step2: 移除不必要文字 (hint: Subject: )\n",
    "    #<your code>#\n",
    "    \n",
    "    #Step3: 將取得的主旨存入字典中\n",
    "    if subjectReg is not None:\n",
    "        emails_dict.update({'subject':subjectReg.group()})\n",
    "    else:\n",
    "        emails_dict.update({'subject':None})\n",
    "    # print('{} : {}'.format(myCount,subjectReg.group()))\n",
    "\n",
    "    ###取得信件內文###\n",
    "    #這裡我們使用email package來取出email內文 (可以不需深究，本章節重點在正規表達式)\n",
    "    try:\n",
    "        full_email = email.message_from_string(mail)\n",
    "        body = full_email.get_payload()\n",
    "        emails_dict[\"email_body\"] = body\n",
    "    except:\n",
    "        emails_dict[\"email_body\"] = None\n",
    "    ###將字典加入list###\n",
    "    emails_list.append(emails_dict)\n",
    "\n",
    "    # myCount += 1\n",
    "\n"
   ]
  },
  {
   "cell_type": "code",
   "execution_count": 107,
   "metadata": {},
   "outputs": [
    {
     "output_type": "execute_result",
     "data": {
      "text/plain": [
       "             FromName              FromMail                ToMail  \\\n",
       "0  PRINCE OBONG ELEME  obong_715@epatra.com  webmaster@aclweb.org   \n",
       "1  PRINCE OBONG ELEME  obong_715@epatra.com  webmaster@aclweb.org   \n",
       "2  PRINCE OBONG ELEME  obong_715@epatra.com  webmaster@aclweb.org   \n",
       "\n",
       "           subject                                         email_body  \n",
       "0  GOOD DAY TO YOU  FROM HIS ROYAL MAJESTY (HRM) CROWN RULER OF EL...  \n",
       "1  GOOD DAY TO YOU  FROM HIS ROYAL MAJESTY (HRM) CROWN RULER OF EL...  \n",
       "2  GOOD DAY TO YOU  FROM HIS ROYAL MAJESTY (HRM) CROWN RULER OF EL...  "
      ],
      "text/html": "<div>\n<style scoped>\n    .dataframe tbody tr th:only-of-type {\n        vertical-align: middle;\n    }\n\n    .dataframe tbody tr th {\n        vertical-align: top;\n    }\n\n    .dataframe thead th {\n        text-align: right;\n    }\n</style>\n<table border=\"1\" class=\"dataframe\">\n  <thead>\n    <tr style=\"text-align: right;\">\n      <th></th>\n      <th>FromName</th>\n      <th>FromMail</th>\n      <th>ToMail</th>\n      <th>subject</th>\n      <th>email_body</th>\n    </tr>\n  </thead>\n  <tbody>\n    <tr>\n      <th>0</th>\n      <td>PRINCE OBONG ELEME</td>\n      <td>obong_715@epatra.com</td>\n      <td>webmaster@aclweb.org</td>\n      <td>GOOD DAY TO YOU</td>\n      <td>FROM HIS ROYAL MAJESTY (HRM) CROWN RULER OF EL...</td>\n    </tr>\n    <tr>\n      <th>1</th>\n      <td>PRINCE OBONG ELEME</td>\n      <td>obong_715@epatra.com</td>\n      <td>webmaster@aclweb.org</td>\n      <td>GOOD DAY TO YOU</td>\n      <td>FROM HIS ROYAL MAJESTY (HRM) CROWN RULER OF EL...</td>\n    </tr>\n    <tr>\n      <th>2</th>\n      <td>PRINCE OBONG ELEME</td>\n      <td>obong_715@epatra.com</td>\n      <td>webmaster@aclweb.org</td>\n      <td>GOOD DAY TO YOU</td>\n      <td>FROM HIS ROYAL MAJESTY (HRM) CROWN RULER OF EL...</td>\n    </tr>\n  </tbody>\n</table>\n</div>"
     },
     "metadata": {},
     "execution_count": 107
    }
   ],
   "source": [
    "#將處理結果轉化為dataframe\n",
    "emails_df = pd.DataFrame(emails_list)\n",
    "emails_df"
   ]
  }
 ]
}