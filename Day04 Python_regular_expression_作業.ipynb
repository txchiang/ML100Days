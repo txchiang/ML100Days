{
 "metadata": {
  "language_info": {
   "codemirror_mode": {
    "name": "ipython",
    "version": 3
   },
   "file_extension": ".py",
   "mimetype": "text/x-python",
   "name": "python",
   "nbconvert_exporter": "python",
   "pygments_lexer": "ipython3",
   "version": "3.8.5-final"
  },
  "orig_nbformat": 2,
  "kernelspec": {
   "name": "python3",
   "display_name": "Python 3"
  }
 },
 "nbformat": 4,
 "nbformat_minor": 2,
 "cells": [
  {
   "cell_type": "code",
   "execution_count": 333,
   "metadata": {},
   "outputs": [],
   "source": [
    "import re\n",
    "with open('sample_emails.txt','r') as f:\n",
    "    sample_corpus = f.read()"
   ]
  },
  {
   "cell_type": "code",
   "execution_count": 334,
   "metadata": {},
   "outputs": [],
   "source": [
    "#  print(sample_corpus)"
   ]
  },
  {
   "cell_type": "code",
   "execution_count": 335,
   "metadata": {},
   "outputs": [],
   "source": [
    "pattern = r'From:.*'\n",
    "match = re.findall(pattern,sample_corpus)\n",
    "# print(match)"
   ]
  },
  {
   "cell_type": "code",
   "execution_count": 336,
   "metadata": {},
   "outputs": [
    {
     "output_type": "stream",
     "name": "stdout",
     "text": [
      "\"MR. JAMES NGOLA.\"\n\"Mr. Ben Suleman\"\n\"PRINCE OBONG ELEME\"\n"
     ]
    }
   ],
   "source": [
    "# pattern = r'(?<=:)[^=]\\\".*\\\"'\n",
    "\n",
    "# match = re.findall(pattern,sample_corpus)\n",
    "\n",
    "# for index, item in enumerate(match):\n",
    "#     match[index] = item.replace(\" \",\"\",1)\n",
    "\n",
    "# print(match)\n",
    "# -----------------------------------------------\n",
    "pattern = r'(?<=:)[^=]\\\".*\\\"'\n",
    "\n",
    "for item in match:\n",
    "    print(re.search(pattern, item).group().replace(\" \",\"\",1))"
   ]
  },
  {
   "cell_type": "code",
   "execution_count": 337,
   "metadata": {},
   "outputs": [
    {
     "output_type": "stream",
     "name": "stdout",
     "text": [
      "maktoob\nspinfinder\nepatra\n"
     ]
    }
   ],
   "source": [
    "pattern = r'([a-zA-z0-9_]+)@([a-z]+)\\.com'\n",
    "\n",
    "for item in match:\n",
    "    print(re.search(pattern, item).group(2))\n"
   ]
  },
  {
   "cell_type": "code",
   "execution_count": null,
   "metadata": {},
   "outputs": [],
   "source": []
  },
  {
   "cell_type": "code",
   "execution_count": 338,
   "metadata": {},
   "outputs": [
    {
     "output_type": "stream",
     "name": "stdout",
     "text": [
      "james_ngola2002,maktoob\nbensul2004nng,spinfinder\nobong_715,epatra\n"
     ]
    }
   ],
   "source": [
    "pattern = r'([a-zA-z0-9_]+)@([a-z]+)\\.com'\n",
    "\n",
    "for item in match:\n",
    "    name = re.search(pattern, item).group(1)\n",
    "    domain = re.search(pattern, item).group(2)\n",
    "    print('{},{}'.format(name,domain))\n"
   ]
  },
  {
   "cell_type": "code",
   "execution_count": 339,
   "metadata": {
    "tags": []
   },
   "outputs": [
    {
     "output_type": "stream",
     "name": "stdout",
     "text": [
      "3977\n"
     ]
    }
   ],
   "source": [
    "import re\n",
    "import pandas as pd\n",
    "import email\n",
    "\n",
    "with open('all_emails.txt', 'r', encoding=\"windows-1252\") as f:\n",
    "    all_email = f.read()\n",
    "emails = re.split(r'From r',all_email)\n",
    "emails = emails[:-1]\n",
    "\n",
    "print(len(emails))"
   ]
  },
  {
   "cell_type": "code",
   "execution_count": 340,
   "metadata": {
    "tags": []
   },
   "outputs": [],
   "source": [
    "emails_list = []\n",
    "for mail in emails[1:21]:\n",
    "    emails_dict = dict() \n",
    "    #Step1: 取的寄件者資訊 (hint: From:)\n",
    "    # pattern = re.compile(r'(?<=From:\\s)(\\\".*\\\")\\s(<.*)')\n",
    "    pattern = re.compile(r'(?<=From:\\s)(.*)')\n",
    "    FromReg = pattern.search(mail)\n",
    "\n",
    "    #Step2: 取的姓名與地址 (hint: 要注意有時會有沒取到配對的情況)\n",
    "    # FromName=''\n",
    "    # FromAddress=''\n",
    "    if FromReg is not None :\n",
    "        if FromReg.group().find('<')!= -1:\n",
    "            FromString = re.split(\"<\",FromReg.group(),re.DOTALL)\n",
    "            FromName = FromString[0].replace(\"\\\"\",\"\").strip()\n",
    "            FromMail = FromString[1].replace(\">\",\"\")\n",
    "            # print('{} {}'.format(FromName,FromMail))\n",
    "        else:\n",
    "            FromName =None\n",
    "            FromMail = FromReg.group()\n",
    "            # print('{} {}'.format(FromName,FromMail))\n",
    "    else:\n",
    "        FromName = None\n",
    "        FromMail = None\n",
    "    #Step3: 將取得的姓名與地址存入字典中\n",
    "    emails_dict.update({'FromName':FromName,'FromMail':FromMail})\n",
    "    \n",
    "\n",
    "    ###取的收件者姓名與地址###\n",
    "    #Step1: 取的寄件者資訊 (hint: To:)\n",
    "    ToReg = re.search(r'(?<=[^-]To:\\s)(.*)',mail)\n",
    "\n",
    "    #Step2: 取的姓名與地址 (hint: 要注意有時會有沒取到配對的情況)\n",
    "    if ToReg is not None:\n",
    "        ToMail = ToReg.group()\n",
    "        # print('{} : {}'.format(myCount,ToMail))\n",
    "    else:\n",
    "        ToMail = None  \n",
    "    \n",
    "    #Step3: 將取得的姓名與地址存入字典中\n",
    "    emails_dict.update({'ToMail': ToMail})\n",
    "\n",
    "\n",
    "    ###取得信件日期###\n",
    "    #Step1: 取得日期資訊 (hint: To:)\n",
    "    dateReg = re.search(r'(?<=Date:\\s\\w\\w\\w,\\s)(\\d*)\\s(\\w+)\\s(\\d+)',mail)\n",
    "    \n",
    "    #Step2: 取得詳細日期(只需取得DD MMM YYYY)\n",
    "    if dateReg is not None:\n",
    "        dateString = str(dateReg.group(1))+\" \"+dateReg.group(2)+\" \"+ dateReg.group(3)\n",
    "    else:\n",
    "        dateString = None\n",
    "        \n",
    "    #Step3: 將取得的日期資訊存入字典中\n",
    "    emails_dict.update({\"date\":dateString})\n",
    "    \n",
    "    ###取得信件主旨###\n",
    "    #Step1: 取得主旨資訊 (hint: Subject:)\n",
    "    subjectReg = re.search(r'(?<=Subject:\\s)(.*)',mail)\n",
    "    \n",
    "    #Step2: 移除不必要文字 (hint: Subject: )\n",
    "    #<your code>#\n",
    "    \n",
    "    #Step3: 將取得的主旨存入字典中\n",
    "        # if subjectReg is not None:\n",
    "        #     emails_dict.update({'subject':subjectReg.group()})\n",
    "        # else:\n",
    "        #     emails_dict.update({'subject':None})\n",
    "    # print('{} : {}'.format(myCount,subjectReg.group()))\n",
    "\n",
    "    ###取得信件內文###\n",
    "    #這裡我們使用email package來取出email內文 (可以不需深究，本章節重點在正規表達式)\n",
    "    try:\n",
    "        full_email = email.message_from_string(mail)\n",
    "        body = full_email.get_payload()\n",
    "        emails_dict[\"email_body\"] = body\n",
    "    except:\n",
    "        emails_dict[\"email_body\"] = None\n",
    "    ###將字典加入list###\n",
    "    emails_list.append(emails_dict)\n",
    "\n"
   ]
  },
  {
   "cell_type": "code",
   "execution_count": 341,
   "metadata": {},
   "outputs": [
    {
     "output_type": "execute_result",
     "data": {
      "text/plain": [
       "                  FromName                       FromMail  \\\n",
       "0         MR. JAMES NGOLA.    james_ngola2002@maktoob.com   \n",
       "1          Mr. Ben Suleman   bensul2004nng@spinfinder.com   \n",
       "2       PRINCE OBONG ELEME           obong_715@epatra.com   \n",
       "3       PRINCE OBONG ELEME           obong_715@epatra.com   \n",
       "4            Maryam Abacha             m_abacha03@www.com   \n",
       "5               Kuta David         davidkuta@postmark.net   \n",
       "6   Barrister tunde dosumu         tunde_dosumu@lycos.com   \n",
       "7           William Drallo  william2244drallo@maktoob.com   \n",
       "8           MR USMAN ABDUL       abdul_817@rediffmail.com   \n",
       "9            Tunde  Dosumu         barrister_td@lycos.com   \n",
       "10         MR TEMI JOHNSON    temijohnson2@rediffmail.com   \n",
       "11           Dr.Sam jordan          sjordan@diplomats.com   \n",
       "12                    None            p_brown2@lawyer.com   \n",
       "13                    None                mic_k1@post.com   \n",
       "14      COL. MICHAEL BUNDU     mikebunduu1@rediffmail.com   \n",
       "15       MRS MARIAM ABACHA            elixwilliam@usa.com   \n",
       "16          DR. ANAYO AWKA          anayoawka@hotmail.com   \n",
       "17          DR. ANAYO AWKA          anayoawka@hotmail.com   \n",
       "18            Victor Aloma        victorloma@netscape.net   \n",
       "19            Victor Aloma        victorloma@netscape.net   \n",
       "\n",
       "                              ToMail         date  \\\n",
       "0               webmaster@aclweb.org  31 Oct 2002   \n",
       "1                                R@M  31 Oct 2002   \n",
       "2               webmaster@aclweb.org  31 Oct 2002   \n",
       "3               webmaster@aclweb.org  31 Oct 2002   \n",
       "4                                R@M   1 Nov 2002   \n",
       "5                davidkuta@yahoo.com  02 Nov 2002   \n",
       "6                               None         None   \n",
       "7               webmaster@aclweb.org   3 Nov 2002   \n",
       "8                                R@M  04 Nov 2002   \n",
       "9                               None         None   \n",
       "10                               R@E   6 Nov 2001   \n",
       "11                               R@M  08 Nov 2002   \n",
       "12              webmaster@aclweb.org   8 Nov 2002   \n",
       "13                               R@M  11 Nov 2002   \n",
       "14                               R@E  13 Nov 2001   \n",
       "15              webmaster@aclweb.org  14 Nov 2002   \n",
       "16              webmaster@aclweb.org  15 Nov 2002   \n",
       "17              webmaster@aclweb.org  15 Nov 2002   \n",
       "18  ntcir-listmem@newns.op.nii.ac.jp  16 Nov 2002   \n",
       "19          ntcir-outgoing@nii.ac.jp  16 Nov 2002   \n",
       "\n",
       "                                           email_body  \n",
       "0   FROM:MR. JAMES NGOLA.\\nCONFIDENTIAL TEL: 233-2...  \n",
       "1   Dear Friend,\\n\\nI am Mr. Ben Suleman a custom ...  \n",
       "2   FROM HIS ROYAL MAJESTY (HRM) CROWN RULER OF EL...  \n",
       "3   FROM HIS ROYAL MAJESTY (HRM) CROWN RULER OF EL...  \n",
       "4   Dear sir, \\n \\nIt is with a heart full of hope...  \n",
       "5   ATTENTION:                                    ...  \n",
       "6   Dear Sir,\\n\\nI am Barrister Tunde Dosumu (SAN)...  \n",
       "7   FROM: WILLIAM DRALLO.\\nCONFIDENTIAL TEL: 233-2...  \n",
       "8   CHALLENGE SECURITIES LTD.\\nLAGOS, NIGERIA\\n\\n\\...  \n",
       "9   Dear Sir,\\n\\nI am Barrister Tunde Dosumu (SAN)...  \n",
       "10  FROM: MR TEMI JOHNSON\\nDEMOCRATIC REPUBLIC OF ...  \n",
       "11  FROM THE DESK OF DR.SAM JORDAN\\nTHE MANAGER\\nH...  \n",
       "12  \\nSENIOR ADVOCATE OF NIGERIA\\nBARR. PETER BROW...  \n",
       "13  From;Mr.Michael Kamah and Family,\\n          J...  \n",
       "14  FROM: COL. MICHAEL BUNDU. \\nDEMOCRATIC REPUBLI...  \n",
       "15  Dear Sir,\\n\\nA Very Good day to you   \\n\\nI am...  \n",
       "16  FROM: DR. ANAYO AWKA BANK MANAGER \\n(UNION BAN...  \n",
       "17  FROM: DR. ANAYO AWKA BANK MANAGER \\n(UNION BAN...  \n",
       "18  The Director,\\n\\n\\n\\n            SEEKING FOR I...  \n",
       "19  The Director,\\n\\n\\n\\n            SEEKING FOR I...  "
      ],
      "text/html": "<div>\n<style scoped>\n    .dataframe tbody tr th:only-of-type {\n        vertical-align: middle;\n    }\n\n    .dataframe tbody tr th {\n        vertical-align: top;\n    }\n\n    .dataframe thead th {\n        text-align: right;\n    }\n</style>\n<table border=\"1\" class=\"dataframe\">\n  <thead>\n    <tr style=\"text-align: right;\">\n      <th></th>\n      <th>FromName</th>\n      <th>FromMail</th>\n      <th>ToMail</th>\n      <th>date</th>\n      <th>email_body</th>\n    </tr>\n  </thead>\n  <tbody>\n    <tr>\n      <th>0</th>\n      <td>MR. JAMES NGOLA.</td>\n      <td>james_ngola2002@maktoob.com</td>\n      <td>webmaster@aclweb.org</td>\n      <td>31 Oct 2002</td>\n      <td>FROM:MR. JAMES NGOLA.\\nCONFIDENTIAL TEL: 233-2...</td>\n    </tr>\n    <tr>\n      <th>1</th>\n      <td>Mr. Ben Suleman</td>\n      <td>bensul2004nng@spinfinder.com</td>\n      <td>R@M</td>\n      <td>31 Oct 2002</td>\n      <td>Dear Friend,\\n\\nI am Mr. Ben Suleman a custom ...</td>\n    </tr>\n    <tr>\n      <th>2</th>\n      <td>PRINCE OBONG ELEME</td>\n      <td>obong_715@epatra.com</td>\n      <td>webmaster@aclweb.org</td>\n      <td>31 Oct 2002</td>\n      <td>FROM HIS ROYAL MAJESTY (HRM) CROWN RULER OF EL...</td>\n    </tr>\n    <tr>\n      <th>3</th>\n      <td>PRINCE OBONG ELEME</td>\n      <td>obong_715@epatra.com</td>\n      <td>webmaster@aclweb.org</td>\n      <td>31 Oct 2002</td>\n      <td>FROM HIS ROYAL MAJESTY (HRM) CROWN RULER OF EL...</td>\n    </tr>\n    <tr>\n      <th>4</th>\n      <td>Maryam Abacha</td>\n      <td>m_abacha03@www.com</td>\n      <td>R@M</td>\n      <td>1 Nov 2002</td>\n      <td>Dear sir, \\n \\nIt is with a heart full of hope...</td>\n    </tr>\n    <tr>\n      <th>5</th>\n      <td>Kuta David</td>\n      <td>davidkuta@postmark.net</td>\n      <td>davidkuta@yahoo.com</td>\n      <td>02 Nov 2002</td>\n      <td>ATTENTION:                                    ...</td>\n    </tr>\n    <tr>\n      <th>6</th>\n      <td>Barrister tunde dosumu</td>\n      <td>tunde_dosumu@lycos.com</td>\n      <td>None</td>\n      <td>None</td>\n      <td>Dear Sir,\\n\\nI am Barrister Tunde Dosumu (SAN)...</td>\n    </tr>\n    <tr>\n      <th>7</th>\n      <td>William Drallo</td>\n      <td>william2244drallo@maktoob.com</td>\n      <td>webmaster@aclweb.org</td>\n      <td>3 Nov 2002</td>\n      <td>FROM: WILLIAM DRALLO.\\nCONFIDENTIAL TEL: 233-2...</td>\n    </tr>\n    <tr>\n      <th>8</th>\n      <td>MR USMAN ABDUL</td>\n      <td>abdul_817@rediffmail.com</td>\n      <td>R@M</td>\n      <td>04 Nov 2002</td>\n      <td>CHALLENGE SECURITIES LTD.\\nLAGOS, NIGERIA\\n\\n\\...</td>\n    </tr>\n    <tr>\n      <th>9</th>\n      <td>Tunde  Dosumu</td>\n      <td>barrister_td@lycos.com</td>\n      <td>None</td>\n      <td>None</td>\n      <td>Dear Sir,\\n\\nI am Barrister Tunde Dosumu (SAN)...</td>\n    </tr>\n    <tr>\n      <th>10</th>\n      <td>MR TEMI JOHNSON</td>\n      <td>temijohnson2@rediffmail.com</td>\n      <td>R@E</td>\n      <td>6 Nov 2001</td>\n      <td>FROM: MR TEMI JOHNSON\\nDEMOCRATIC REPUBLIC OF ...</td>\n    </tr>\n    <tr>\n      <th>11</th>\n      <td>Dr.Sam jordan</td>\n      <td>sjordan@diplomats.com</td>\n      <td>R@M</td>\n      <td>08 Nov 2002</td>\n      <td>FROM THE DESK OF DR.SAM JORDAN\\nTHE MANAGER\\nH...</td>\n    </tr>\n    <tr>\n      <th>12</th>\n      <td>None</td>\n      <td>p_brown2@lawyer.com</td>\n      <td>webmaster@aclweb.org</td>\n      <td>8 Nov 2002</td>\n      <td>\\nSENIOR ADVOCATE OF NIGERIA\\nBARR. PETER BROW...</td>\n    </tr>\n    <tr>\n      <th>13</th>\n      <td>None</td>\n      <td>mic_k1@post.com</td>\n      <td>R@M</td>\n      <td>11 Nov 2002</td>\n      <td>From;Mr.Michael Kamah and Family,\\n          J...</td>\n    </tr>\n    <tr>\n      <th>14</th>\n      <td>COL. MICHAEL BUNDU</td>\n      <td>mikebunduu1@rediffmail.com</td>\n      <td>R@E</td>\n      <td>13 Nov 2001</td>\n      <td>FROM: COL. MICHAEL BUNDU. \\nDEMOCRATIC REPUBLI...</td>\n    </tr>\n    <tr>\n      <th>15</th>\n      <td>MRS MARIAM ABACHA</td>\n      <td>elixwilliam@usa.com</td>\n      <td>webmaster@aclweb.org</td>\n      <td>14 Nov 2002</td>\n      <td>Dear Sir,\\n\\nA Very Good day to you   \\n\\nI am...</td>\n    </tr>\n    <tr>\n      <th>16</th>\n      <td>DR. ANAYO AWKA</td>\n      <td>anayoawka@hotmail.com</td>\n      <td>webmaster@aclweb.org</td>\n      <td>15 Nov 2002</td>\n      <td>FROM: DR. ANAYO AWKA BANK MANAGER \\n(UNION BAN...</td>\n    </tr>\n    <tr>\n      <th>17</th>\n      <td>DR. ANAYO AWKA</td>\n      <td>anayoawka@hotmail.com</td>\n      <td>webmaster@aclweb.org</td>\n      <td>15 Nov 2002</td>\n      <td>FROM: DR. ANAYO AWKA BANK MANAGER \\n(UNION BAN...</td>\n    </tr>\n    <tr>\n      <th>18</th>\n      <td>Victor Aloma</td>\n      <td>victorloma@netscape.net</td>\n      <td>ntcir-listmem@newns.op.nii.ac.jp</td>\n      <td>16 Nov 2002</td>\n      <td>The Director,\\n\\n\\n\\n            SEEKING FOR I...</td>\n    </tr>\n    <tr>\n      <th>19</th>\n      <td>Victor Aloma</td>\n      <td>victorloma@netscape.net</td>\n      <td>ntcir-outgoing@nii.ac.jp</td>\n      <td>16 Nov 2002</td>\n      <td>The Director,\\n\\n\\n\\n            SEEKING FOR I...</td>\n    </tr>\n  </tbody>\n</table>\n</div>"
     },
     "metadata": {},
     "execution_count": 341
    }
   ],
   "source": [
    "#將處理結果轉化為dataframe\n",
    "\n",
    "emails_df = pd.DataFrame(emails_list)\n",
    "emails_df"
   ]
  }
 ]
}