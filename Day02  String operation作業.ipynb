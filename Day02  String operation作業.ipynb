{
 "metadata": {
  "language_info": {
   "codemirror_mode": {
    "name": "ipython",
    "version": 3
   },
   "file_extension": ".py",
   "mimetype": "text/x-python",
   "name": "python",
   "nbconvert_exporter": "python",
   "pygments_lexer": "ipython3",
   "version": "3.8.5-final"
  },
  "orig_nbformat": 2,
  "kernelspec": {
   "name": "python3",
   "display_name": "Python 3"
  }
 },
 "nbformat": 4,
 "nbformat_minor": 2,
 "cells": [
  {
   "cell_type": "code",
   "execution_count": 23,
   "metadata": {},
   "outputs": [],
   "source": [
    "test_string = ['5.9', '30', '½', '³', '⑬']"
   ]
  },
  {
   "cell_type": "code",
   "execution_count": 24,
   "metadata": {},
   "outputs": [],
   "source": [
    "def spam(s, isnumeric_count, isdigit_count, isdecimal_count):\n",
    "    for attr in ['isnumeric', 'isdecimal', 'isdigit']:\n",
    "        \n",
    "        if attr == 'isnumeric' and s.isnumeric():\n",
    "            isnumeric_count += 1\n",
    "        if attr == 'isdecimal' and s.isdecimal():\n",
    "            isdecimal_count += 1\n",
    "        if attr == 'isdigit' and s.isdigit():\n",
    "            isdigit_count += 1\n",
    "    return isnumeric_count, isdigit_count, isdecimal_count\n",
    "isnumeric_count = 0\n",
    "isdigit_count =0\n",
    "isdecimal_count = 0\n",
    "for x in test_string:\n",
    "    isnumeric_count, isdigit_count, isdecimal_count = spam(x,isnumeric_count,isdigit_count,isdecimal_count)\n"
   ]
  },
  {
   "cell_type": "code",
   "execution_count": 25,
   "metadata": {},
   "outputs": [
    {
     "output_type": "stream",
     "name": "stdout",
     "text": [
      "isnumeric_count: 4\nisdigit_count: 2\nisdecimal_count: 1\n"
     ]
    }
   ],
   "source": [
    "print('isnumeric_count: {}'.format(isnumeric_count))     \n",
    "print('isdigit_count: {}'.format(isdigit_count))     \n",
    "print('isdecimal_count: {}'.format(isdecimal_count))  "
   ]
  },
  {
   "cell_type": "code",
   "execution_count": 26,
   "metadata": {},
   "outputs": [],
   "source": [
    "accuracy = 98.129393\n",
    "recall = 94.879583\n",
    "precision = 96.294821"
   ]
  },
  {
   "cell_type": "code",
   "execution_count": 27,
   "metadata": {},
   "outputs": [
    {
     "output_type": "stream",
     "name": "stdout",
     "text": [
      "Accuracy: 98.13%, Recall: 94.88%, Precision: 96.29%\n"
     ]
    }
   ],
   "source": [
    "print('Accuracy: {0:.2f}%, Recall: {1:.2f}%, Precision: {2:.2f}%'.format(accuracy,recall,precision))"
   ]
  },
  {
   "cell_type": "code",
   "execution_count": 28,
   "metadata": {},
   "outputs": [],
   "source": [
    "accuracy = 0.98129393\n",
    "recall = 0.94879583\n",
    "precision = 0.96294821"
   ]
  },
  {
   "cell_type": "code",
   "execution_count": 29,
   "metadata": {},
   "outputs": [
    {
     "output_type": "stream",
     "name": "stdout",
     "text": [
      "Accuracy: 98.13%, Recall: 94.88%, Precision: 96.29%\n"
     ]
    }
   ],
   "source": [
    "print('Accuracy: {0:.2%}, Recall: {1:.2%}, Precision: {2:.2%}'.format(accuracy,recall,precision))\n"
   ]
  },
  {
   "cell_type": "code",
   "execution_count": 30,
   "metadata": {},
   "outputs": [],
   "source": [
    "number = 3.1415926"
   ]
  },
  {
   "cell_type": "code",
   "execution_count": 31,
   "metadata": {},
   "outputs": [
    {
     "output_type": "stream",
     "name": "stdout",
     "text": [
      "3.14e+00\n"
     ]
    }
   ],
   "source": [
    "print('{:0.2e}'.format(number))"
   ]
  },
  {
   "cell_type": "code",
   "execution_count": 32,
   "metadata": {},
   "outputs": [
    {
     "output_type": "stream",
     "name": "stdout",
     "text": [
      "314.16%\n"
     ]
    }
   ],
   "source": [
    "print('{:0.2%}'.format(number))"
   ]
  },
  {
   "cell_type": "code",
   "execution_count": 33,
   "metadata": {},
   "outputs": [
    {
     "output_type": "stream",
     "name": "stdout",
     "text": [
      "3.14159300\n"
     ]
    }
   ],
   "source": [
    "print('{:0<10f}'.format(number))"
   ]
  }
 ]
}